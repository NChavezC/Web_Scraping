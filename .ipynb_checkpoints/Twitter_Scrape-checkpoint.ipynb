{
 "cells": [
  {
   "cell_type": "markdown",
   "id": "00d780c5-12f1-4d11-afc8-a34228fcd010",
   "metadata": {},
   "source": [
    "# Twitter"
   ]
  },
  {
   "cell_type": "code",
   "execution_count": 1,
   "id": "f3dfb3a0-34e7-4c0d-916d-c6ed628209a8",
   "metadata": {},
   "outputs": [],
   "source": [
    "from bs4 import BeautifulSoup\n",
    "from selenium import webdriver\n",
    "from selenium.webdriver.common.by import By\n",
    "from selenium.webdriver.common.keys import Keys\n",
    "from selenium.webdriver.support.ui import WebDriverWait\n",
    "from selenium.webdriver.support import expected_conditions as EC\n",
    "import time\n",
    "import pandas as pd"
   ]
  },
  {
   "cell_type": "code",
   "execution_count": 2,
   "id": "0dc862a1-6588-4fe4-a526-fad98a6eeb6c",
   "metadata": {},
   "outputs": [],
   "source": [
    "from getpass import getpass"
   ]
  },
  {
   "cell_type": "code",
   "execution_count": 3,
   "id": "046c3bef-b41a-4d3b-878a-c16139d6628d",
   "metadata": {},
   "outputs": [
    {
     "name": "stdin",
     "output_type": "stream",
     "text": [
      "Input your twitter UserName:  amarillorazona1\n",
      "Input your twitter Password:  ···············\n"
     ]
    }
   ],
   "source": [
    "input_user = input(\"Input your twitter UserName: \")\n",
    "input_password = getpass(\"Input your twitter Password: \")"
   ]
  },
  {
   "cell_type": "code",
   "execution_count": null,
   "id": "0399b6f5-f9f2-402a-aea2-95b6d952406c",
   "metadata": {},
   "outputs": [
    {
     "name": "stderr",
     "output_type": "stream",
     "text": [
      "C:\\Users\\User\\AppData\\Local\\Temp\\ipykernel_17684\\898269831.py:1: DeprecationWarning: executable_path has been deprecated, please pass in a Service object\n",
      "  driver = webdriver.Chrome(\"chromedriver_win32/chromedriver.exe\")\n"
     ]
    }
   ],
   "source": [
    "driver = webdriver.Chrome(\"chromedriver_win32/chromedriver.exe\")\n",
    "driver.get(\"https://www.twitter.com/login\")\n",
    "time.sleep(10)\n",
    "user = driver.find_element(By.XPATH, '//*[@id=\"layers\"]/div/div/div/div/div/div/div[2]/div[2]/div/div/div[2]/div[2]/div/div/div/div[5]/label/div/div[2]/div/input')\n",
    "user.send_keys(input_user)\n",
    "user.send_keys(Keys.ENTER)\n",
    "time.sleep(10)\n",
    "password = driver.find_element(By.XPATH, '//*[@id=\"layers\"]/div/div/div/div/div/div/div[2]/div[2]/div/div/div[2]/div[2]/div[1]/div/div/div[3]/div/label/div/div[2]/div[1]/input')\n",
    "password.send_keys(input_password)\n",
    "password.send_keys(Keys.ENTER)"
   ]
  },
  {
   "cell_type": "code",
   "execution_count": null,
   "id": "a44efb38-c672-49b8-b60d-be315679b578",
   "metadata": {},
   "outputs": [],
   "source": [
    "celebrity = \"Destiny\""
   ]
  },
  {
   "cell_type": "code",
   "execution_count": null,
   "id": "5e10ccc3-d3f1-4681-92f5-bca740bf2b2d",
   "metadata": {},
   "outputs": [],
   "source": [
    "WebDriverWait(driver, 10).until(EC.presence_of_element_located((By.XPATH, '//*[@id=\"react-root\"]/div/div/div[2]/main/div/div/div/div[2]/div/div[2]/div/div/div/div[1]/div/div/div/form/div[1]/div/div/div/label/div[2]/div/input')))"
   ]
  },
  {
   "cell_type": "code",
   "execution_count": null,
   "id": "5ebcdba0-47a3-4ce6-8921-2452c70224e2",
   "metadata": {},
   "outputs": [],
   "source": [
    "search = driver.find_element(By.XPATH, '//*[@id=\"react-root\"]/div/div/div[2]/main/div/div/div/div[2]/div/div[2]/div/div/div/div[1]/div/div/div/form/div[1]/div/div/div/label/div[2]/div/input')\n",
    "search.send_keys(celebrity)\n",
    "search.send_keys(Keys.ENTER)\n",
    "time.sleep(5)"
   ]
  },
  {
   "cell_type": "code",
   "execution_count": null,
   "id": "32a203ee-a9c2-4cf4-b5cc-ca367a68b37a",
   "metadata": {},
   "outputs": [],
   "source": [
    "people_tab = driver.find_element(By.XPATH, '//*[@id=\"react-root\"]/div/div/div[2]/main/div/div/div/div[1]/div/div[1]/div[1]/div[2]/nav/div/div[2]/div/div[3]/a/div')\n",
    "people_tab.click()\n",
    "time.sleep(5)"
   ]
  },
  {
   "cell_type": "code",
   "execution_count": null,
   "id": "22b0b9dd-6366-4268-90bf-d37774c24675",
   "metadata": {},
   "outputs": [],
   "source": [
    "profile = driver.find_element(By.XPATH, '//*[@id=\"react-root\"]/div/div/div[2]/main/div/div/div/div[1]/div/div[3]/div/section/div/div/div[1]/div/div/div/div/div[2]/div[1]/div[1]/div/div[1]/a/div/div[1]/span/span[1]')\n",
    "profile.click()\n",
    "time.sleep(5)"
   ]
  },
  {
   "cell_type": "code",
   "execution_count": null,
   "id": "cd749e25-44c6-4117-9831-816cb1529565",
   "metadata": {
    "tags": []
   },
   "outputs": [],
   "source": [
    "soup = BeautifulSoup(driver.page_source, \"lxml\")"
   ]
  },
  {
   "cell_type": "code",
   "execution_count": null,
   "id": "beb74a48-5c1a-48db-8d96-8c344f9abf5a",
   "metadata": {},
   "outputs": [],
   "source": [
    "postings = soup.find_all(\"div\", class_ = \"css-901oao r-18jsvk2 r-37j5jr r-a023e6 r-16dba41 r-rjixqe r-bcqeeo r-bnwqim r-qvutc0\")\n",
    "len(postings)"
   ]
  },
  {
   "cell_type": "code",
   "execution_count": null,
   "id": "ab4f96cf-a396-48f9-8c75-8ab92a82d2b2",
   "metadata": {
    "tags": []
   },
   "outputs": [],
   "source": [
    "tweets = []\n",
    "while True:\n",
    "    for post in postings:\n",
    "        tweets.append(post.text)\n",
    "    h = driver.execute_script(\"return document.body.scrollHeight\")\n",
    "    driver.execute_script(f\"window.scrollTo(0, {h})\")\n",
    "    time.sleep(15)\n",
    "    soup = BeautifulSoup(driver.page_source, \"lxml\")\n",
    "    postings = soup.find_all(\"div\", class_ = \"css-901oao r-18jsvk2 r-37j5jr r-a023e6 r-16dba41 r-rjixqe r-bcqeeo r-bnwqim r-qvutc0\")\n",
    "    print(len(postings))\n",
    "    tweets_no_duplicate = list(set(tweets))\n",
    "    print(len( tweets_no_duplicate))\n",
    "    if len(tweets_no_duplicate) > 250:\n",
    "        break"
   ]
  },
  {
   "cell_type": "code",
   "execution_count": null,
   "id": "c2c840e5-88b9-4e44-9bb3-0989afd2e18e",
   "metadata": {},
   "outputs": [],
   "source": [
    "df = pd.DataFrame(data = {\"Tweet\":tweets_no_duplicate})\n",
    "df"
   ]
  },
  {
   "cell_type": "code",
   "execution_count": null,
   "id": "ccae69a5-8ca0-4f8d-bdf7-5b20ea4907f7",
   "metadata": {},
   "outputs": [],
   "source": [
    "df.to_csv(\"tweets.csv\")"
   ]
  }
 ],
 "metadata": {
  "kernelspec": {
   "display_name": "Python 3 (ipykernel)",
   "language": "python",
   "name": "python3"
  },
  "language_info": {
   "codemirror_mode": {
    "name": "ipython",
    "version": 3
   },
   "file_extension": ".py",
   "mimetype": "text/x-python",
   "name": "python",
   "nbconvert_exporter": "python",
   "pygments_lexer": "ipython3",
   "version": "3.9.7"
  }
 },
 "nbformat": 4,
 "nbformat_minor": 5
}
